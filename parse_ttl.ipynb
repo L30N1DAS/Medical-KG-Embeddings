{
 "cells": [
  {
   "cell_type": "code",
   "execution_count": 1,
   "metadata": {
    "colab": {
     "base_uri": "https://localhost:8080/"
    },
    "id": "n2AxAGEcW_Em",
    "outputId": "182acb08-69fb-4bfd-8c6e-1e68aea6ed84"
   },
   "outputs": [
    {
     "data": {
      "text/plain": [
       "['arm.22974704 subClassOf Arm']"
      ]
     },
     "execution_count": 1,
     "metadata": {},
     "output_type": "execute_result"
    }
   ],
   "source": [
    "test = \"dcr:arm.22974704 a dc-ont:Arm .\"\n",
    "#dc-ont:Age, dc-ont:Quantity -> Age hasQuantity Quantity\n",
    "\n",
    "import re\n",
    "\n",
    "\n",
    "return_list = []\n",
    "\n",
    "def strip(string):\n",
    "\treturn re.sub('(dcr:)|(dc-ont:)', '', string)\n",
    "\n",
    "def convert_classes(string):\n",
    "    \"\"\"\n",
    "    Convert classes back and forth.\n",
    "    \"\"\"\n",
    "    sub = re.sub('\\sa\\s', ' subClassOf ', string)\n",
    "    sub = re.sub('\\s\\.', '.', sub)\n",
    "\n",
    "    return sub\n",
    "\n",
    "\n",
    "def split_classes(string):\n",
    "\n",
    "    return string.split(',')\n",
    "\n",
    "\n",
    "split_string = split_classes(convert_classes(strip(test)))\n",
    "\n",
    "\n",
    "for x in split_string:\n",
    "    xsplit = x.split(' ')\n",
    "\n",
    "    if not re.search(';', x) and len(xsplit) == 3:\n",
    "        x = re.sub('\\.$', '', x)\n",
    "        return_list.append(x)\n",
    "        head_entity = xsplit[0]\n",
    "\n",
    "    if re.search(';', x):\n",
    "        xsplit2 = [zz.strip() for zz in x.split(';')]\n",
    "\n",
    "        for z in xsplit2:\n",
    "            z = z.strip()\n",
    "            if len(z.split(' ')) == 2:\n",
    "\n",
    "                z = re.sub('\\.$', '', z)\n",
    "\n",
    "                return_list.append(head_entity + ' ' + z)\n",
    "\n",
    "return_list"
   ]
  },
  {
   "cell_type": "code",
   "execution_count": 2,
   "metadata": {
    "colab": {
     "base_uri": "https://localhost:8080/",
     "height": 419
    },
    "id": "_laYAoD_eNxl",
    "outputId": "ab20ea4e-1e03-4faa-d255-3b95e4cd9383"
   },
   "outputs": [
    {
     "ename": "PluginException",
     "evalue": "No plugin registered for (Hand.ttl, <class 'rdflib.store.Store'>)",
     "output_type": "error",
     "traceback": [
      "\u001b[0;31m---------------------------------------------------------------------------\u001b[0m",
      "\u001b[0;31mKeyError\u001b[0m                                  Traceback (most recent call last)",
      "File \u001b[0;32m~/Documents/project_transe/kge-impact/dataset/.rdflib/lib/python3.10/site-packages/rdflib/plugin.py:134\u001b[0m, in \u001b[0;36mget\u001b[0;34m(name, kind)\u001b[0m\n\u001b[1;32m    133\u001b[0m \u001b[38;5;28;01mtry\u001b[39;00m:\n\u001b[0;32m--> 134\u001b[0m     p: Plugin[PluginT] \u001b[38;5;241m=\u001b[39m \u001b[43m_plugins\u001b[49m\u001b[43m[\u001b[49m\u001b[43m(\u001b[49m\u001b[43mname\u001b[49m\u001b[43m,\u001b[49m\u001b[43m \u001b[49m\u001b[43mkind\u001b[49m\u001b[43m)\u001b[49m\u001b[43m]\u001b[49m\n\u001b[1;32m    135\u001b[0m \u001b[38;5;28;01mexcept\u001b[39;00m \u001b[38;5;167;01mKeyError\u001b[39;00m:\n",
      "\u001b[0;31mKeyError\u001b[0m: ('Hand.ttl', <class 'rdflib.store.Store'>)",
      "\nDuring handling of the above exception, another exception occurred:\n",
      "\u001b[0;31mPluginException\u001b[0m                           Traceback (most recent call last)",
      "Cell \u001b[0;32mIn[2], line 4\u001b[0m\n\u001b[1;32m      1\u001b[0m \u001b[38;5;28;01mfrom\u001b[39;00m\u001b[38;5;250m \u001b[39m\u001b[38;5;21;01mrdflib\u001b[39;00m\u001b[38;5;250m \u001b[39m\u001b[38;5;28;01mimport\u001b[39;00m Graph\n\u001b[0;32m----> 4\u001b[0m g \u001b[38;5;241m=\u001b[39m \u001b[43mGraph\u001b[49m\u001b[43m(\u001b[49m\u001b[38;5;124;43m'\u001b[39;49m\u001b[38;5;124;43mHand.ttl\u001b[39;49m\u001b[38;5;124;43m'\u001b[39;49m\u001b[43m)\u001b[49m\n\u001b[1;32m      6\u001b[0m g\u001b[38;5;241m.\u001b[39mparse()\n",
      "File \u001b[0;32m~/Documents/project_transe/kge-impact/dataset/.rdflib/lib/python3.10/site-packages/rdflib/graph.py:498\u001b[0m, in \u001b[0;36mGraph.__init__\u001b[0;34m(self, store, identifier, namespace_manager, base, bind_namespaces)\u001b[0m\n\u001b[1;32m    495\u001b[0m \u001b[38;5;28mself\u001b[39m\u001b[38;5;241m.\u001b[39m__store: Store\n\u001b[1;32m    496\u001b[0m \u001b[38;5;28;01mif\u001b[39;00m \u001b[38;5;129;01mnot\u001b[39;00m \u001b[38;5;28misinstance\u001b[39m(store, Store):\n\u001b[1;32m    497\u001b[0m     \u001b[38;5;66;03m# TODO: error handling\u001b[39;00m\n\u001b[0;32m--> 498\u001b[0m     \u001b[38;5;28mself\u001b[39m\u001b[38;5;241m.\u001b[39m__store \u001b[38;5;241m=\u001b[39m store \u001b[38;5;241m=\u001b[39m \u001b[43mplugin\u001b[49m\u001b[38;5;241;43m.\u001b[39;49m\u001b[43mget\u001b[49m\u001b[43m(\u001b[49m\u001b[43mstore\u001b[49m\u001b[43m,\u001b[49m\u001b[43m \u001b[49m\u001b[43mStore\u001b[49m\u001b[43m)\u001b[49m()\n\u001b[1;32m    499\u001b[0m \u001b[38;5;28;01melse\u001b[39;00m:\n\u001b[1;32m    500\u001b[0m     \u001b[38;5;28mself\u001b[39m\u001b[38;5;241m.\u001b[39m__store \u001b[38;5;241m=\u001b[39m store\n",
      "File \u001b[0;32m~/Documents/project_transe/kge-impact/dataset/.rdflib/lib/python3.10/site-packages/rdflib/plugin.py:136\u001b[0m, in \u001b[0;36mget\u001b[0;34m(name, kind)\u001b[0m\n\u001b[1;32m    134\u001b[0m     p: Plugin[PluginT] \u001b[38;5;241m=\u001b[39m _plugins[(name, kind)]\n\u001b[1;32m    135\u001b[0m \u001b[38;5;28;01mexcept\u001b[39;00m \u001b[38;5;167;01mKeyError\u001b[39;00m:\n\u001b[0;32m--> 136\u001b[0m     \u001b[38;5;28;01mraise\u001b[39;00m PluginException(\u001b[38;5;124m\"\u001b[39m\u001b[38;5;124mNo plugin registered for (\u001b[39m\u001b[38;5;132;01m%s\u001b[39;00m\u001b[38;5;124m, \u001b[39m\u001b[38;5;132;01m%s\u001b[39;00m\u001b[38;5;124m)\u001b[39m\u001b[38;5;124m\"\u001b[39m \u001b[38;5;241m%\u001b[39m (name, kind))\n\u001b[1;32m    137\u001b[0m \u001b[38;5;28;01mreturn\u001b[39;00m p\u001b[38;5;241m.\u001b[39mgetClass()\n",
      "\u001b[0;31mPluginException\u001b[0m: No plugin registered for (Hand.ttl, <class 'rdflib.store.Store'>)"
     ]
    }
   ],
   "source": [
    "from rdflib import Graph\n",
    "\n",
    "\n",
    "g = Graph('Hand.ttl')\n",
    "\n",
    "g.parse()"
   ]
  },
  {
   "cell_type": "code",
   "execution_count": 37,
   "metadata": {
    "colab": {
     "base_uri": "https://localhost:8080/"
    },
    "id": "uq1xO9v6fMZx",
    "outputId": "aad3cfb1-1ede-44a8-816e-14f0fbf62d36"
   },
   "outputs": [
    {
     "name": "stdout",
     "output_type": "stream",
     "text": [
      "\n"
     ]
    }
   ],
   "source": [
    "import re\n",
    "from collections import namedtuple\n",
    "from itertools import takewhile\n",
    "\n",
    "Entry = namedtuple('Entry', 'id name address phone')\n",
    "\n",
    "def get_entries(path):\n",
    "    with open(path) as file:\n",
    "        # an entry starts with `#@` line and ends with a blank line\n",
    "        for line in file:\n",
    "            if line.startswith('#@'):\n",
    "                buf = [line]\n",
    "                buf.extend(takewhile(str.strip, file)) # read until blank line\n",
    "                print(buf)\n",
    "                yield Entry(*re.findall(r'<([^>]+)>', ''.join(buf)))\n",
    "\n",
    "get_entries('Hand.ttl')\n",
    "\n",
    "print(\"\\n\".join(map(str, get_entries('Hand.ttl'))))"
   ]
  },
  {
   "cell_type": "code",
   "execution_count": null,
   "metadata": {
    "colab": {
     "base_uri": "https://localhost:8080/"
    },
    "id": "d_lMMsB0fjH9",
    "outputId": "b140d2d5-4368-4a89-e244-36ec27873998"
   },
   "outputs": [
    {
     "ename": "",
     "evalue": "",
     "output_type": "error",
     "traceback": [
      "\u001b[1;31mRunning cells with 'Python 3.10.12' requires the ipykernel package.\n",
      "\u001b[1;31mRun the following command to install 'ipykernel' into the Python environment. \n",
      "\u001b[1;31mCommand: '/bin/python3 -m pip install ipykernel -U --user --force-reinstall'"
     ]
    }
   ],
   "source": [
    "from rdflib import Graph\n",
    "import os\n",
    "\n",
    "def split_spo(string):\n",
    "    if re.search('#', string):\n",
    "        return string.split('#')[-1]\n",
    "    else:\n",
    "        return string.split('/')[-1]\n",
    "\n",
    "prob_file = \"output-PA-99472304-70.ttl\"\n",
    "\n",
    "ttl_dir = \"output-ttl/PatientAbstract\"\n",
    "\n",
    "ttl_path = os.path.join(ttl_dir, prob_file)\n",
    "\n",
    "# Create a Graph object\n",
    "g = Graph()\n",
    "\n",
    "# Parse the TTL file\n",
    "#g.parse(\"Hand(1).ttl\", format=\"ttl\")\n",
    "#test1 = g.parse(os.path.join('output-ttl', 'PatientAbstract', prob_file))\n",
    "\n",
    "g.parse(ttl_path)\n",
    "# Iterate over the triples in the graph\n",
    "for s, p, o in g:\n",
    "    s = split_spo(s)\n",
    "    p = split_spo(p)\n",
    "    o = split_spo(o)\n",
    "    print(s, p, o)"
   ]
  },
  {
   "cell_type": "code",
   "execution_count": 16,
   "metadata": {
    "id": "R9CUlIXhiE_S"
   },
   "outputs": [
    {
     "name": "stdout",
     "output_type": "stream",
     "text": [
      "3.10.12 (main, Jan 17 2025, 14:35:34) [GCC 11.4.0]\n"
     ]
    }
   ],
   "source": [
    "import rdflib\n",
    "rdflib.__version__\n",
    "\n",
    "\n",
    "\n",
    "import sys\n",
    "print(sys.version)"
   ]
  },
  {
   "cell_type": "code",
   "execution_count": null,
   "metadata": {
    "id": "MVR3ROR0g4Fz"
   },
   "outputs": [],
   "source": []
  }
 ],
 "metadata": {
  "colab": {
   "provenance": []
  },
  "kernelspec": {
   "display_name": "Python 3 (ipykernel)",
   "language": "python",
   "name": "python3"
  },
  "language_info": {
   "codemirror_mode": {
    "name": "ipython",
    "version": 3
   },
   "file_extension": ".py",
   "mimetype": "text/x-python",
   "name": "python",
   "nbconvert_exporter": "python",
   "pygments_lexer": "ipython3",
   "version": "3.10.12"
  }
 },
 "nbformat": 4,
 "nbformat_minor": 4
}
